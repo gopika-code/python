{
 "cells": [
  {
   "cell_type": "code",
   "execution_count": 1,
   "id": "7ec0c53b-d73e-493c-9e36-8481cb650485",
   "metadata": {},
   "outputs": [
    {
     "name": "stdout",
     "output_type": "stream",
     "text": [
      "suba\n"
     ]
    }
   ],
   "source": [
    "print(\"suba\")"
   ]
  },
  {
   "cell_type": "code",
   "execution_count": null,
   "id": "c5fb48e1-b2f0-4435-8d99-f9b178bdbc96",
   "metadata": {},
   "outputs": [],
   "source": []
  }
 ],
 "metadata": {
  "kernelspec": {
   "display_name": "Python 3 (ipykernel)",
   "language": "python",
   "name": "python3"
  },
  "language_info": {
   "codemirror_mode": {
    "name": "ipython",
    "version": 3
   },
   "file_extension": ".py",
   "mimetype": "text/x-python",
   "name": "python",
   "nbconvert_exporter": "python",
   "pygments_lexer": "ipython3",
   "version": "3.11.7"
  }
 },
 "nbformat": 4,
 "nbformat_minor": 5
}
